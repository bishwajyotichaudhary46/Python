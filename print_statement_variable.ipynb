{
 "cells": [
  {
   "cell_type": "markdown",
   "metadata": {
    "id": "xwID-BjRD58c"
   },
   "source": [
    "# Print statement"
   ]
  },
  {
   "cell_type": "code",
   "execution_count": 1,
   "metadata": {
    "colab": {
     "base_uri": "https://localhost:8080/"
    },
    "id": "S9-ybJh5Bpv9",
    "outputId": "90b68a43-f588-4d7b-b5a3-93a5d206045b"
   },
   "outputs": [
    {
     "name": "stdout",
     "output_type": "stream",
     "text": [
      "Hello Madan Bhandari University\n"
     ]
    }
   ],
   "source": [
    "print('Hello Madan Bhandari University')"
   ]
  },
  {
   "cell_type": "code",
   "execution_count": null,
   "metadata": {},
   "outputs": [],
   "source": []
  },
  {
   "cell_type": "code",
   "execution_count": 2,
   "metadata": {
    "colab": {
     "base_uri": "https://localhost:8080/"
    },
    "id": "35xwN351CO08",
    "outputId": "964cf1fa-66c5-4cd5-975d-d0b043e65939"
   },
   "outputs": [
    {
     "name": "stdout",
     "output_type": "stream",
     "text": [
      "greetings from Madan Bhandari University\n",
      "Good Morning\n"
     ]
    }
   ],
   "source": [
    "print(\"greetings from Madan Bhandari University\")\n",
    "print(\"Good Morning\")"
   ]
  },
  {
   "cell_type": "code",
   "execution_count": 3,
   "metadata": {
    "colab": {
     "base_uri": "https://localhost:8080/",
     "height": 169
    },
    "id": "XVFHryVEC3vk",
    "outputId": "caa9ac53-e926-420a-c604-95db33c82474"
   },
   "outputs": [
    {
     "ename": "NameError",
     "evalue": "name 'Print' is not defined",
     "output_type": "error",
     "traceback": [
      "\u001b[1;31m---------------------------------------------------------------------------\u001b[0m",
      "\u001b[1;31mNameError\u001b[0m                                 Traceback (most recent call last)",
      "Cell \u001b[1;32mIn[3], line 1\u001b[0m\n\u001b[1;32m----> 1\u001b[0m Print(\u001b[38;5;124m\"\u001b[39m\u001b[38;5;124mGood Afternoon\u001b[39m\u001b[38;5;124m\"\u001b[39m)\n",
      "\u001b[1;31mNameError\u001b[0m: name 'Print' is not defined"
     ]
    }
   ],
   "source": [
    "Print(\"Good Afternoon\")"
   ]
  },
  {
   "cell_type": "code",
   "execution_count": 4,
   "metadata": {
    "colab": {
     "base_uri": "https://localhost:8080/",
     "height": 133
    },
    "id": "Ag6D4jxXC-x7",
    "outputId": "ab12d7d5-00ee-4a04-bffc-4cee738a589e"
   },
   "outputs": [
    {
     "ename": "SyntaxError",
     "evalue": "Missing parentheses in call to 'print'. Did you mean print(...)? (501484024.py, line 1)",
     "output_type": "error",
     "traceback": [
      "\u001b[1;36m  Cell \u001b[1;32mIn[4], line 1\u001b[1;36m\u001b[0m\n\u001b[1;33m    print \"Good Morning\"\u001b[0m\n\u001b[1;37m    ^\u001b[0m\n\u001b[1;31mSyntaxError\u001b[0m\u001b[1;31m:\u001b[0m Missing parentheses in call to 'print'. Did you mean print(...)?\n"
     ]
    }
   ],
   "source": [
    "print \"Good Morning\""
   ]
  },
  {
   "cell_type": "code",
   "execution_count": 5,
   "metadata": {
    "colab": {
     "base_uri": "https://localhost:8080/",
     "height": 133
    },
    "id": "N6ldotxPDFwz",
    "outputId": "9310ddb1-dcc3-44c1-dd62-269d77a7e0c3"
   },
   "outputs": [
    {
     "ename": "SyntaxError",
     "evalue": "unterminated string literal (detected at line 1) (2676733140.py, line 1)",
     "output_type": "error",
     "traceback": [
      "\u001b[1;36m  Cell \u001b[1;32mIn[5], line 1\u001b[1;36m\u001b[0m\n\u001b[1;33m    print(\"Good\u001b[0m\n\u001b[1;37m          ^\u001b[0m\n\u001b[1;31mSyntaxError\u001b[0m\u001b[1;31m:\u001b[0m unterminated string literal (detected at line 1)\n"
     ]
    }
   ],
   "source": [
    "print(\"Good\n",
    "Morning\")"
   ]
  },
  {
   "cell_type": "code",
   "execution_count": 6,
   "metadata": {
    "colab": {
     "base_uri": "https://localhost:8080/",
     "height": 36
    },
    "id": "jvXTnVcJDN9b",
    "outputId": "4771dead-4a9b-4b5e-f43b-dcea88e5fb11"
   },
   "outputs": [
    {
     "data": {
      "text/plain": [
       "'Good morning'"
      ]
     },
     "execution_count": 6,
     "metadata": {},
     "output_type": "execute_result"
    }
   ],
   "source": [
    "\"Good morning\""
   ]
  },
  {
   "cell_type": "code",
   "execution_count": 7,
   "metadata": {
    "colab": {
     "base_uri": "https://localhost:8080/"
    },
    "id": "3did8pp_DXer",
    "outputId": "6aca7a00-79c5-4187-d2cf-442419c3b6af"
   },
   "outputs": [
    {
     "name": "stdout",
     "output_type": "stream",
     "text": [
      "HI\n"
     ]
    }
   ],
   "source": [
    "\"Good morning\"\n",
    "print(\"HI\")"
   ]
  },
  {
   "cell_type": "code",
   "execution_count": 8,
   "metadata": {
    "colab": {
     "base_uri": "https://localhost:8080/"
    },
    "id": "7Kj2aS4tDaYk",
    "outputId": "d16651d1-8022-451c-b7eb-fd2a9b7e682f"
   },
   "outputs": [
    {
     "name": "stdout",
     "output_type": "stream",
     "text": [
      "Good\n",
      "Evening\n"
     ]
    }
   ],
   "source": [
    "print(\"\"\"Good\n",
    "Evening\"\"\")"
   ]
  },
  {
   "cell_type": "code",
   "execution_count": 9,
   "metadata": {
    "colab": {
     "base_uri": "https://localhost:8080/"
    },
    "id": "GKdCSqH7Drw6",
    "outputId": "65d66acd-7d79-4254-b52e-fb1d334ef119"
   },
   "outputs": [
    {
     "name": "stdout",
     "output_type": "stream",
     "text": [
      "MBUST intends to engage students in research development (R&D) related to real life problems of enterprises\n",
      "MBUST alligns its academic programs and research with economic sector/sub-sectos/product with high potential for contribution of economic growth \n"
     ]
    }
   ],
   "source": [
    "print(\"\"\"MBUST intends to engage students in research development (R&D) related to real life problems of enterprises\n",
    "MBUST alligns its academic programs and research with economic sector/sub-sectos/product with high potential for contribution of economic growth \"\"\")"
   ]
  },
  {
   "cell_type": "code",
   "execution_count": 10,
   "metadata": {
    "colab": {
     "base_uri": "https://localhost:8080/"
    },
    "id": "6Ksbd7icD02T",
    "outputId": "1b140c2c-b930-49f6-b7df-8ad485eb616b"
   },
   "outputs": [
    {
     "name": "stdout",
     "output_type": "stream",
     "text": [
      "Good\n",
      "Evening\n",
      "from\n",
      "Chitlang\n"
     ]
    }
   ],
   "source": [
    "print(\"\"\"Good\n",
    "Evening\n",
    "from\n",
    "Chitlang\"\"\")"
   ]
  },
  {
   "cell_type": "markdown",
   "metadata": {
    "id": "CD_O2SCBEELb"
   },
   "source": [
    "# Comments"
   ]
  },
  {
   "cell_type": "code",
   "execution_count": 11,
   "metadata": {
    "colab": {
     "base_uri": "https://localhost:8080/"
    },
    "id": "-E_uVMS2EA2b",
    "outputId": "65e4a444-2ddc-44a1-e091-7850fa8e8467"
   },
   "outputs": [
    {
     "name": "stdout",
     "output_type": "stream",
     "text": [
      "Hi Friends\n"
     ]
    }
   ],
   "source": [
    "# say hello to the students\n",
    "print(\"Hi Friends\")"
   ]
  },
  {
   "cell_type": "code",
   "execution_count": 12,
   "metadata": {
    "id": "M0c7zmkNEQci"
   },
   "outputs": [],
   "source": [
    "# say hello to the students\n",
    "# print(\"Hi Students\")"
   ]
  },
  {
   "cell_type": "markdown",
   "metadata": {
    "id": "-E9EBcN5EkKz"
   },
   "source": [
    "# Multi line comments"
   ]
  },
  {
   "cell_type": "code",
   "execution_count": 13,
   "metadata": {
    "colab": {
     "base_uri": "https://localhost:8080/",
     "height": 36
    },
    "id": "JTgadBDgk0xY",
    "outputId": "770f6ab7-c7ac-4d52-94f1-f9aff5a65696"
   },
   "outputs": [
    {
     "data": {
      "text/plain": [
       "'\\nSay Hi\\nTo the Friends\\n'"
      ]
     },
     "execution_count": 13,
     "metadata": {},
     "output_type": "execute_result"
    }
   ],
   "source": [
    "\"\"\"\n",
    "Say Hi\n",
    "To the Friends\n",
    "\"\"\""
   ]
  },
  {
   "cell_type": "code",
   "execution_count": 14,
   "metadata": {
    "colab": {
     "base_uri": "https://localhost:8080/"
    },
    "id": "VKbfWJfCEmjL",
    "outputId": "034d19c0-1c8b-45e0-c652-a27358c98cd8"
   },
   "outputs": [
    {
     "name": "stdout",
     "output_type": "stream",
     "text": [
      "Hi Friends\n"
     ]
    }
   ],
   "source": [
    "\"\"\"\n",
    "Say Hi\n",
    "To the Friends\n",
    "\"\"\"\n",
    "print('Hi Friends')"
   ]
  },
  {
   "cell_type": "code",
   "execution_count": null,
   "metadata": {
    "colab": {
     "base_uri": "https://localhost:8080/"
    },
    "id": "I-RmJn7PFFwS",
    "outputId": "7a3e3967-39ae-44e7-ba4a-1173fc774677"
   },
   "outputs": [],
   "source": [
    "# Say Hi\n",
    "# To the students\n",
    "\n",
    "print('Hi Friends')"
   ]
  },
  {
   "cell_type": "code",
   "execution_count": 19,
   "metadata": {
    "colab": {
     "base_uri": "https://localhost:8080/",
     "height": 133
    },
    "id": "UIwv0pgFE--C",
    "outputId": "e0adce5c-7a6d-4c64-e37d-089a1cdc0c84"
   },
   "outputs": [
    {
     "name": "stdout",
     "output_type": "stream",
     "text": [
      "Hi my name is  0\n"
     ]
    }
   ],
   "source": [
    "# more exceptional cases in print statements\n",
    "bishwa=0\n",
    "print(\"Hi my name is \",bishwa)"
   ]
  },
  {
   "cell_type": "code",
   "execution_count": 20,
   "metadata": {
    "colab": {
     "base_uri": "https://localhost:8080/"
    },
    "id": "zF2Am_MhFweZ",
    "outputId": "e27b3a99-c24e-4fbd-cc4e-d1371a02e0cb"
   },
   "outputs": [
    {
     "name": "stdout",
     "output_type": "stream",
     "text": [
      "Hi my name is \"Bishwa\" \n"
     ]
    }
   ],
   "source": [
    "print(\"Hi my name is \\\"Bishwa\\\" \")"
   ]
  },
  {
   "cell_type": "code",
   "execution_count": 21,
   "metadata": {
    "colab": {
     "base_uri": "https://localhost:8080/"
    },
    "id": "Ff9Qc0IOFVDc",
    "outputId": "e3c9438f-a586-4483-cf01-1167b786c1f0"
   },
   "outputs": [
    {
     "name": "stdout",
     "output_type": "stream",
     "text": [
      "Hi my name is \"Bishwa\" \n"
     ]
    }
   ],
   "source": [
    "print('Hi my name is \"Bishwa\" ')"
   ]
  },
  {
   "cell_type": "code",
   "execution_count": 22,
   "metadata": {
    "colab": {
     "base_uri": "https://localhost:8080/"
    },
    "id": "jx_cDD-uFEPq",
    "outputId": "e14dc9f1-02c6-4fc1-b6e5-3ca00cb70f5e"
   },
   "outputs": [
    {
     "name": "stdout",
     "output_type": "stream",
     "text": [
      "Hi my name is 'Bishwa' \n"
     ]
    }
   ],
   "source": [
    "print(\"Hi my name is 'Bishwa' \")"
   ]
  },
  {
   "cell_type": "code",
   "execution_count": 23,
   "metadata": {
    "colab": {
     "base_uri": "https://localhost:8080/"
    },
    "id": "Bt8qGndAFd5T",
    "outputId": "1b449649-f0df-46f6-bc56-5dc8dabb1071"
   },
   "outputs": [
    {
     "name": "stdout",
     "output_type": "stream",
     "text": [
      "Hi my name is \"Sunny\" \n"
     ]
    }
   ],
   "source": [
    "print(\"\"\"Hi my name is \"Sunny\" \"\"\")"
   ]
  },
  {
   "cell_type": "code",
   "execution_count": 24,
   "metadata": {
    "colab": {
     "base_uri": "https://localhost:8080/"
    },
    "id": "4j5spTNsFl-x",
    "outputId": "06b65026-0d34-4390-d69d-86f1febb0652"
   },
   "outputs": [
    {
     "name": "stdout",
     "output_type": "stream",
     "text": [
      "Hi my name is \"Bishwa\"!\n"
     ]
    }
   ],
   "source": [
    "print(\"\"\"Hi my name is \"Bishwa\"!\"\"\")"
   ]
  },
  {
   "cell_type": "code",
   "execution_count": null,
   "metadata": {
    "id": "yyDkyUTLF8GZ"
   },
   "outputs": [],
   "source": []
  },
  {
   "cell_type": "markdown",
   "metadata": {
    "id": "Z66KsCImF_HY"
   },
   "source": [
    "### Example [Shift + Enter]"
   ]
  },
  {
   "cell_type": "code",
   "execution_count": 25,
   "metadata": {
    "colab": {
     "base_uri": "https://localhost:8080/"
    },
    "id": "o2QayumCGUKg",
    "outputId": "aad507a7-b677-4176-8f30-43b32f40a854"
   },
   "outputs": [
    {
     "data": {
      "text/plain": [
       "368"
      ]
     },
     "execution_count": 25,
     "metadata": {},
     "output_type": "execute_result"
    }
   ],
   "source": [
    "123 + 245 # Sum of 2 nos"
   ]
  },
  {
   "cell_type": "code",
   "execution_count": 26,
   "metadata": {
    "colab": {
     "base_uri": "https://localhost:8080/"
    },
    "id": "yt8gv9tLETVS",
    "outputId": "3da3d054-f7a3-4365-8372-729cdbfc75d5"
   },
   "outputs": [
    {
     "data": {
      "text/plain": [
       "30135"
      ]
     },
     "execution_count": 26,
     "metadata": {},
     "output_type": "execute_result"
    }
   ],
   "source": [
    "123 * 245"
   ]
  },
  {
   "cell_type": "code",
   "execution_count": 27,
   "metadata": {
    "colab": {
     "base_uri": "https://localhost:8080/"
    },
    "id": "7NtxdssYGegg",
    "outputId": "6f43648c-9d90-4612-97b5-e37c1e2dc137"
   },
   "outputs": [
    {
     "data": {
      "text/plain": [
       "0.5020408163265306"
      ]
     },
     "execution_count": 27,
     "metadata": {},
     "output_type": "execute_result"
    }
   ],
   "source": [
    "123 / 245"
   ]
  },
  {
   "cell_type": "code",
   "execution_count": 28,
   "metadata": {
    "colab": {
     "base_uri": "https://localhost:8080/"
    },
    "id": "Da7wU8qsGiLA",
    "outputId": "b1f6bb7d-e666-4d42-8534-935244ad4d2a"
   },
   "outputs": [
    {
     "data": {
      "text/plain": [
       "15129"
      ]
     },
     "execution_count": 28,
     "metadata": {},
     "output_type": "execute_result"
    }
   ],
   "source": [
    "123**2 # power of 123 raised to 2"
   ]
  },
  {
   "cell_type": "code",
   "execution_count": 29,
   "metadata": {
    "colab": {
     "base_uri": "https://localhost:8080/"
    },
    "id": "jswTlAESG6QP",
    "outputId": "239f1da7-7880-4e2a-f3cc-ecf3dbc36020"
   },
   "outputs": [
    {
     "data": {
      "text/plain": [
       "15129"
      ]
     },
     "execution_count": 29,
     "metadata": {},
     "output_type": "execute_result"
    }
   ],
   "source": [
    "(-123)**2"
   ]
  },
  {
   "cell_type": "code",
   "execution_count": 30,
   "metadata": {
    "colab": {
     "base_uri": "https://localhost:8080/"
    },
    "id": "qX9Zk9JjGqpx",
    "outputId": "1cc488e9-84e4-482e-8a29-2e1350b21264"
   },
   "outputs": [
    {
     "data": {
      "text/plain": [
       "1"
      ]
     },
     "execution_count": 30,
     "metadata": {},
     "output_type": "execute_result"
    }
   ],
   "source": [
    "123%2 # modulo operator which gives you reminder"
   ]
  },
  {
   "cell_type": "code",
   "execution_count": 31,
   "metadata": {
    "colab": {
     "base_uri": "https://localhost:8080/"
    },
    "id": "Ak2R4BxfHYWA",
    "outputId": "076e3539-f765-4f7b-e76f-2cb2def950c4"
   },
   "outputs": [
    {
     "data": {
      "text/plain": [
       "0"
      ]
     },
     "execution_count": 31,
     "metadata": {},
     "output_type": "execute_result"
    }
   ],
   "source": [
    "2%2"
   ]
  },
  {
   "cell_type": "code",
   "execution_count": 34,
   "metadata": {
    "colab": {
     "base_uri": "https://localhost:8080/"
    },
    "id": "aSkI-342Hbx3",
    "outputId": "af1b31c5-3a8a-4feb-fca8-d03e74a89ef9"
   },
   "outputs": [
    {
     "data": {
      "text/plain": [
       "2"
      ]
     },
     "execution_count": 34,
     "metadata": {},
     "output_type": "execute_result"
    }
   ],
   "source": [
    "2%3"
   ]
  },
  {
   "cell_type": "code",
   "execution_count": 33,
   "metadata": {
    "colab": {
     "base_uri": "https://localhost:8080/"
    },
    "id": "zqG_gj75Gul3",
    "outputId": "a8825929-d92d-47dc-ac21-129002a48948"
   },
   "outputs": [
    {
     "data": {
      "text/plain": [
       "0"
      ]
     },
     "execution_count": 33,
     "metadata": {},
     "output_type": "execute_result"
    }
   ],
   "source": [
    "122%2"
   ]
  },
  {
   "cell_type": "code",
   "execution_count": 35,
   "metadata": {
    "colab": {
     "base_uri": "https://localhost:8080/"
    },
    "id": "QOTpK8R4G2iI",
    "outputId": "9d8655bc-f3db-4ead-8f19-327fa7c063d4"
   },
   "outputs": [
    {
     "name": "stdout",
     "output_type": "stream",
     "text": [
      "Result\n"
     ]
    }
   ],
   "source": [
    "123 * 245\n",
    "print(\"Result\")"
   ]
  },
  {
   "cell_type": "code",
   "execution_count": 37,
   "metadata": {
    "colab": {
     "base_uri": "https://localhost:8080/"
    },
    "id": "H9dbQCYSHG-I",
    "outputId": "f1ec64e5-3aa9-4c16-fca4-f49a51fe6f60"
   },
   "outputs": [
    {
     "data": {
      "text/plain": [
       "'Result'"
      ]
     },
     "execution_count": 37,
     "metadata": {},
     "output_type": "execute_result"
    }
   ],
   "source": [
    "123 * 245\n",
    "\"Result\""
   ]
  },
  {
   "cell_type": "code",
   "execution_count": 38,
   "metadata": {
    "colab": {
     "base_uri": "https://localhost:8080/"
    },
    "id": "-WVeUjTRHKeH",
    "outputId": "c2126269-2783-4794-b7bb-a763e2eddaea"
   },
   "outputs": [
    {
     "name": "stdout",
     "output_type": "stream",
     "text": [
      "123 * 245\n",
      "Result\n"
     ]
    }
   ],
   "source": [
    "print(\"123 * 245\")\n",
    "print(\"Result\")"
   ]
  },
  {
   "cell_type": "markdown",
   "metadata": {
    "id": "oDelEYkwHiAB"
   },
   "source": [
    "# Variables in python\n",
    "## Variables in python\n",
    "### Variables in python\n",
    "#### Variables in python\n",
    "##### Variables in python\n",
    "<h1>Variables in python</h1>"
   ]
  },
  {
   "cell_type": "code",
   "execution_count": 39,
   "metadata": {
    "id": "GULQuCnTHNtv"
   },
   "outputs": [],
   "source": [
    "x = 10"
   ]
  },
  {
   "cell_type": "code",
   "execution_count": 40,
   "metadata": {
    "colab": {
     "base_uri": "https://localhost:8080/"
    },
    "id": "zpbysLM5IL4v",
    "outputId": "adf3c3fc-683f-4df1-8336-4fa2ed932668"
   },
   "outputs": [
    {
     "name": "stdout",
     "output_type": "stream",
     "text": [
      "10\n"
     ]
    }
   ],
   "source": [
    "print(x)"
   ]
  },
  {
   "cell_type": "code",
   "execution_count": 41,
   "metadata": {
    "id": "W9p2zex0IO0H"
   },
   "outputs": [],
   "source": [
    "y = 20"
   ]
  },
  {
   "cell_type": "code",
   "execution_count": 42,
   "metadata": {
    "colab": {
     "base_uri": "https://localhost:8080/"
    },
    "id": "pcnpmfUdIRZf",
    "outputId": "ea74c64f-5170-494d-ff9f-c058bc752253"
   },
   "outputs": [
    {
     "name": "stdout",
     "output_type": "stream",
     "text": [
      "20\n"
     ]
    }
   ],
   "source": [
    "print(y)"
   ]
  },
  {
   "cell_type": "code",
   "execution_count": 43,
   "metadata": {
    "colab": {
     "base_uri": "https://localhost:8080/"
    },
    "id": "PEeInRz2IS_f",
    "outputId": "7606625f-d1f5-47dd-f96a-558aaf506448"
   },
   "outputs": [
    {
     "name": "stdout",
     "output_type": "stream",
     "text": [
      "30\n"
     ]
    }
   ],
   "source": [
    "print(x + y)"
   ]
  },
  {
   "cell_type": "code",
   "execution_count": 44,
   "metadata": {
    "colab": {
     "base_uri": "https://localhost:8080/"
    },
    "id": "5UNnCREmIVp3",
    "outputId": "6969b0e8-9037-4efa-836c-25c405f2b831"
   },
   "outputs": [
    {
     "name": "stdout",
     "output_type": "stream",
     "text": [
      "0.5\n"
     ]
    }
   ],
   "source": [
    "print(x / y)"
   ]
  },
  {
   "cell_type": "markdown",
   "metadata": {
    "id": "qQlqWX12Iczf"
   },
   "source": [
    "1. Variable names should start with alphabets\n",
    "\n"
   ]
  },
  {
   "cell_type": "code",
   "execution_count": 48,
   "metadata": {
    "id": "WTwL8GrIJSBl"
   },
   "outputs": [],
   "source": [
    "ten = 10\n",
    "ten_number = 10\n",
    "tenNumber = 10"
   ]
  },
  {
   "cell_type": "markdown",
   "metadata": {
    "id": "pt4fZT8YJNLG"
   },
   "source": [
    "2. Variable names should not contain any special characters like ^ % $ ! @ # ^ & * ( )\n"
   ]
  },
  {
   "cell_type": "code",
   "execution_count": 46,
   "metadata": {
    "colab": {
     "base_uri": "https://localhost:8080/",
     "height": 133
    },
    "id": "uw1cHKXQJb6u",
    "outputId": "77fb5baf-e5af-4d81-912b-34a1097dffb7"
   },
   "outputs": [
    {
     "ename": "SyntaxError",
     "evalue": "invalid syntax (2667552044.py, line 1)",
     "output_type": "error",
     "traceback": [
      "\u001b[1;36m  Cell \u001b[1;32mIn[46], line 1\u001b[1;36m\u001b[0m\n\u001b[1;33m    ten* = 10\u001b[0m\n\u001b[1;37m         ^\u001b[0m\n\u001b[1;31mSyntaxError\u001b[0m\u001b[1;31m:\u001b[0m invalid syntax\n"
     ]
    }
   ],
   "source": [
    "ten* = 10"
   ]
  },
  {
   "cell_type": "code",
   "execution_count": 49,
   "metadata": {
    "colab": {
     "base_uri": "https://localhost:8080/",
     "height": 133
    },
    "id": "E2Jmk_loJhXO",
    "outputId": "514427d5-fa6a-4c5d-9933-93d4d0f2c415"
   },
   "outputs": [
    {
     "ename": "SyntaxError",
     "evalue": "cannot assign to expression here. Maybe you meant '==' instead of '='? (1559910169.py, line 1)",
     "output_type": "error",
     "traceback": [
      "\u001b[1;36m  Cell \u001b[1;32mIn[49], line 1\u001b[1;36m\u001b[0m\n\u001b[1;33m    ten%number = 10\u001b[0m\n\u001b[1;37m    ^\u001b[0m\n\u001b[1;31mSyntaxError\u001b[0m\u001b[1;31m:\u001b[0m cannot assign to expression here. Maybe you meant '==' instead of '='?\n"
     ]
    }
   ],
   "source": [
    "ten%number = 10"
   ]
  },
  {
   "cell_type": "code",
   "execution_count": 50,
   "metadata": {
    "colab": {
     "base_uri": "https://localhost:8080/",
     "height": 133
    },
    "id": "Tv_AphuiJpAH",
    "outputId": "43b37140-0501-421c-f0ee-ab6496b99639"
   },
   "outputs": [
    {
     "ename": "SyntaxError",
     "evalue": "cannot assign to expression here. Maybe you meant '==' instead of '='? (234643379.py, line 3)",
     "output_type": "error",
     "traceback": [
      "\u001b[1;36m  Cell \u001b[1;32mIn[50], line 3\u001b[1;36m\u001b[0m\n\u001b[1;33m    ten%number = 10\u001b[0m\n\u001b[1;37m    ^\u001b[0m\n\u001b[1;31mSyntaxError\u001b[0m\u001b[1;31m:\u001b[0m cannot assign to expression here. Maybe you meant '==' instead of '='?\n"
     ]
    }
   ],
   "source": [
    "ten = 10\n",
    "ten_number = 10\n",
    "ten%number = 10\n",
    "tenNumber = 10"
   ]
  },
  {
   "cell_type": "code",
   "execution_count": 51,
   "metadata": {
    "colab": {
     "base_uri": "https://localhost:8080/",
     "height": 133
    },
    "id": "Z7f23T7pJ7pV",
    "outputId": "34602d29-c986-4123-81fc-5a43e2df20ac"
   },
   "outputs": [
    {
     "ename": "SyntaxError",
     "evalue": "cannot assign to expression here. Maybe you meant '==' instead of '='? (3006776037.py, line 3)",
     "output_type": "error",
     "traceback": [
      "\u001b[1;36m  Cell \u001b[1;32mIn[51], line 3\u001b[1;36m\u001b[0m\n\u001b[1;33m    ten/number = 10\u001b[0m\n\u001b[1;37m    ^\u001b[0m\n\u001b[1;31mSyntaxError\u001b[0m\u001b[1;31m:\u001b[0m cannot assign to expression here. Maybe you meant '==' instead of '='?\n"
     ]
    }
   ],
   "source": [
    "ten = 10\n",
    "ten_number = 10\n",
    "ten/number = 10\n",
    "tenNumber = 10"
   ]
  },
  {
   "cell_type": "markdown",
   "metadata": {
    "id": "ksblOBqWJOzY"
   },
   "source": [
    "3. Variable names can contain numbers but you can't start with numbers\n"
   ]
  },
  {
   "cell_type": "code",
   "execution_count": 52,
   "metadata": {
    "id": "c-E1ZOagKKhV"
   },
   "outputs": [],
   "source": [
    "ten10 = 10"
   ]
  },
  {
   "cell_type": "code",
   "execution_count": 53,
   "metadata": {
    "colab": {
     "base_uri": "https://localhost:8080/",
     "height": 133
    },
    "id": "yvWoGX2VKPDl",
    "outputId": "ed665cff-2b94-432e-d996-d06aa130c978"
   },
   "outputs": [
    {
     "ename": "SyntaxError",
     "evalue": "invalid decimal literal (3011706180.py, line 1)",
     "output_type": "error",
     "traceback": [
      "\u001b[1;36m  Cell \u001b[1;32mIn[53], line 1\u001b[1;36m\u001b[0m\n\u001b[1;33m    10ten = 10\u001b[0m\n\u001b[1;37m     ^\u001b[0m\n\u001b[1;31mSyntaxError\u001b[0m\u001b[1;31m:\u001b[0m invalid decimal literal\n"
     ]
    }
   ],
   "source": [
    "10ten = 10"
   ]
  },
  {
   "cell_type": "code",
   "execution_count": 54,
   "metadata": {
    "id": "ZbL5WOSbKSWW"
   },
   "outputs": [],
   "source": [
    "__num = 10 # hidden variable"
   ]
  },
  {
   "cell_type": "markdown",
   "metadata": {
    "id": "n-7Zxz3xJQIK"
   },
   "source": [
    "4. Its not a strict rule that you should variable names with a Captial letter. But its recommended to use small letters for the variables"
   ]
  },
  {
   "cell_type": "code",
   "execution_count": 55,
   "metadata": {
    "id": "73vnLi4jIX8X"
   },
   "outputs": [],
   "source": [
    "Ten = 10"
   ]
  },
  {
   "cell_type": "code",
   "execution_count": 56,
   "metadata": {
    "colab": {
     "base_uri": "https://localhost:8080/",
     "height": 133
    },
    "id": "LV5dpmKqKuC9",
    "outputId": "0fbeab1c-06b2-48a7-e4e5-5a6f8bf18df3"
   },
   "outputs": [
    {
     "ename": "SyntaxError",
     "evalue": "invalid syntax (2262126045.py, line 1)",
     "output_type": "error",
     "traceback": [
      "\u001b[1;36m  Cell \u001b[1;32mIn[56], line 1\u001b[1;36m\u001b[0m\n\u001b[1;33m    ten number = 10\u001b[0m\n\u001b[1;37m        ^\u001b[0m\n\u001b[1;31mSyntaxError\u001b[0m\u001b[1;31m:\u001b[0m invalid syntax\n"
     ]
    }
   ],
   "source": [
    "ten number = 10"
   ]
  },
  {
   "cell_type": "code",
   "execution_count": 57,
   "metadata": {
    "id": "tkVgbUXyLBKk"
   },
   "outputs": [],
   "source": [
    "ten_number = 10"
   ]
  },
  {
   "cell_type": "code",
   "execution_count": 58,
   "metadata": {
    "id": "Mrz2exbDQWBg"
   },
   "outputs": [],
   "source": [
    "_ = 10 # dummy variable"
   ]
  },
  {
   "cell_type": "markdown",
   "metadata": {
    "id": "shB8E8suQKEI"
   },
   "source": [
    "# Fundamental data types"
   ]
  },
  {
   "cell_type": "markdown",
   "metadata": {
    "id": "sDxkSYIRQTGk"
   },
   "source": [
    "# integers"
   ]
  },
  {
   "cell_type": "code",
   "execution_count": 59,
   "metadata": {
    "id": "0UGwN43gQJyo"
   },
   "outputs": [],
   "source": [
    "a = 7"
   ]
  },
  {
   "cell_type": "code",
   "execution_count": 60,
   "metadata": {
    "colab": {
     "base_uri": "https://localhost:8080/"
    },
    "id": "rb2hmXqaLEVV",
    "outputId": "5aac8a05-2c87-43bd-b99d-606eff5c1c9f"
   },
   "outputs": [
    {
     "data": {
      "text/plain": [
       "int"
      ]
     },
     "execution_count": 60,
     "metadata": {},
     "output_type": "execute_result"
    }
   ],
   "source": [
    "type(a)"
   ]
  },
  {
   "cell_type": "code",
   "execution_count": 61,
   "metadata": {
    "colab": {
     "base_uri": "https://localhost:8080/"
    },
    "id": "13QMyXdtQn4f",
    "outputId": "6b480573-d44a-4c43-d7c2-bd45a3f2be9d"
   },
   "outputs": [
    {
     "data": {
      "text/plain": [
       "int"
      ]
     },
     "execution_count": 61,
     "metadata": {},
     "output_type": "execute_result"
    }
   ],
   "source": [
    "b = 77777\n",
    "type(b)"
   ]
  },
  {
   "cell_type": "markdown",
   "metadata": {
    "id": "moDdE9RKQvJh"
   },
   "source": [
    "## floats - numbers containing decimal numbers"
   ]
  },
  {
   "cell_type": "code",
   "execution_count": 62,
   "metadata": {
    "id": "fjrPWQWaQtGR"
   },
   "outputs": [],
   "source": [
    "pi = 3.14"
   ]
  },
  {
   "cell_type": "code",
   "execution_count": 63,
   "metadata": {
    "colab": {
     "base_uri": "https://localhost:8080/"
    },
    "id": "QnRM62G1Q5qH",
    "outputId": "dcc7a27a-f6d7-4301-de24-a7e26c7a3636"
   },
   "outputs": [
    {
     "data": {
      "text/plain": [
       "float"
      ]
     },
     "execution_count": 63,
     "metadata": {},
     "output_type": "execute_result"
    }
   ],
   "source": [
    "type(pi)"
   ]
  },
  {
   "cell_type": "code",
   "execution_count": 64,
   "metadata": {
    "colab": {
     "base_uri": "https://localhost:8080/"
    },
    "id": "8YkR2N34RFZA",
    "outputId": "d6fde4d5-cc97-4f53-9f53-b7846d62c614"
   },
   "outputs": [
    {
     "data": {
      "text/plain": [
       "3.142857142857143"
      ]
     },
     "execution_count": 64,
     "metadata": {},
     "output_type": "execute_result"
    }
   ],
   "source": [
    "pi = 22/7\n",
    "pi"
   ]
  },
  {
   "cell_type": "code",
   "execution_count": 65,
   "metadata": {
    "colab": {
     "base_uri": "https://localhost:8080/"
    },
    "id": "G62gS_1oRJi3",
    "outputId": "47ee13fe-c9ea-417d-b7b7-0f09d86fdbee"
   },
   "outputs": [
    {
     "data": {
      "text/plain": [
       "float"
      ]
     },
     "execution_count": 65,
     "metadata": {},
     "output_type": "execute_result"
    }
   ],
   "source": [
    "type(pi)"
   ]
  },
  {
   "cell_type": "code",
   "execution_count": 66,
   "metadata": {
    "colab": {
     "base_uri": "https://localhost:8080/"
    },
    "id": "j0jn9m-DQ7sf",
    "outputId": "039f2a3e-13de-43a1-d55c-4fc82867d832"
   },
   "outputs": [
    {
     "data": {
      "text/plain": [
       "float"
      ]
     },
     "execution_count": 66,
     "metadata": {},
     "output_type": "execute_result"
    }
   ],
   "source": [
    "x = 2.0\n",
    "\n",
    "type(x)"
   ]
  },
  {
   "cell_type": "code",
   "execution_count": 67,
   "metadata": {
    "colab": {
     "base_uri": "https://localhost:8080/"
    },
    "id": "2p9Of_TiRAVe",
    "outputId": "a561e100-c73d-4cad-bc3c-a70f1239db3c"
   },
   "outputs": [
    {
     "data": {
      "text/plain": [
       "int"
      ]
     },
     "execution_count": 67,
     "metadata": {},
     "output_type": "execute_result"
    }
   ],
   "source": [
    "x = 2\n",
    "\n",
    "type(x)"
   ]
  },
  {
   "cell_type": "markdown",
   "metadata": {
    "id": "djQ1C4UqRV2w"
   },
   "source": [
    "# Complex numbers"
   ]
  },
  {
   "cell_type": "code",
   "execution_count": 68,
   "metadata": {
    "colab": {
     "base_uri": "https://localhost:8080/"
    },
    "id": "b8x5LehaRVou",
    "outputId": "3ca2da81-d62c-4957-be4d-b494107af91b"
   },
   "outputs": [
    {
     "data": {
      "text/plain": [
       "(2+3j)"
      ]
     },
     "execution_count": 68,
     "metadata": {},
     "output_type": "execute_result"
    }
   ],
   "source": [
    "a = 2+3j\n",
    "a"
   ]
  },
  {
   "cell_type": "code",
   "execution_count": 69,
   "metadata": {
    "colab": {
     "base_uri": "https://localhost:8080/"
    },
    "id": "zvWgfhAQRDN3",
    "outputId": "261a45b3-1f50-469f-8b58-238c35ffc27f"
   },
   "outputs": [
    {
     "data": {
      "text/plain": [
       "complex"
      ]
     },
     "execution_count": 69,
     "metadata": {},
     "output_type": "execute_result"
    }
   ],
   "source": [
    "type(a)"
   ]
  },
  {
   "cell_type": "code",
   "execution_count": 70,
   "metadata": {
    "colab": {
     "base_uri": "https://localhost:8080/"
    },
    "id": "DcnVBA3JSJ3-",
    "outputId": "f618efe5-592c-41b7-ebdd-aff6128e1722"
   },
   "outputs": [
    {
     "data": {
      "text/plain": [
       "2.0"
      ]
     },
     "execution_count": 70,
     "metadata": {},
     "output_type": "execute_result"
    }
   ],
   "source": [
    "a.real"
   ]
  },
  {
   "cell_type": "code",
   "execution_count": 71,
   "metadata": {
    "colab": {
     "base_uri": "https://localhost:8080/"
    },
    "id": "6lIOZ_97SQjG",
    "outputId": "1416d87a-ee4f-468b-bd00-f0eda5bbeab0"
   },
   "outputs": [
    {
     "data": {
      "text/plain": [
       "3.0"
      ]
     },
     "execution_count": 71,
     "metadata": {},
     "output_type": "execute_result"
    }
   ],
   "source": [
    "a.imag"
   ]
  },
  {
   "cell_type": "markdown",
   "metadata": {
    "id": "Rr_cLPPjSa1g"
   },
   "source": [
    "## Dynamic typing"
   ]
  },
  {
   "cell_type": "markdown",
   "metadata": {
    "id": "tPdeyusDSmYv"
   },
   "source": [
    "```\n",
    "int a = 22;\n",
    "```"
   ]
  },
  {
   "cell_type": "code",
   "execution_count": 72,
   "metadata": {
    "colab": {
     "base_uri": "https://localhost:8080/"
    },
    "id": "kZyFgLlHTXo5",
    "outputId": "aa265bbe-ba21-4555-b423-fae53ffcfd0f"
   },
   "outputs": [
    {
     "data": {
      "text/plain": [
       "float"
      ]
     },
     "execution_count": 72,
     "metadata": {},
     "output_type": "execute_result"
    }
   ],
   "source": [
    "a = 22\n",
    "type(a)\n",
    "a = 22.2\n",
    "type(a)"
   ]
  },
  {
   "cell_type": "code",
   "execution_count": 73,
   "metadata": {
    "colab": {
     "base_uri": "https://localhost:8080/"
    },
    "id": "AGSSVBi2SUWO",
    "outputId": "091238e2-2adb-468d-c91b-3c3d20d8f252"
   },
   "outputs": [
    {
     "name": "stdout",
     "output_type": "stream",
     "text": [
      "<class 'int'>\n",
      "<class 'float'>\n",
      "<class 'str'>\n",
      "<class 'str'>\n"
     ]
    }
   ],
   "source": [
    "a = 22\n",
    "print(type(a))\n",
    "a = 22.2\n",
    "print(type(a))\n",
    "a = \"Bishwa\"\n",
    "print(type(a))\n",
    "a = 'Bishwa'\n",
    "print(type(a))"
   ]
  },
  {
   "cell_type": "code",
   "execution_count": null,
   "metadata": {
    "colab": {
     "base_uri": "https://localhost:8080/"
    },
    "id": "-VTqRrGzSyvG",
    "outputId": "a103cd82-a83f-4866-9554-d289825755de"
   },
   "outputs": [],
   "source": [
    "print(a)"
   ]
  },
  {
   "cell_type": "code",
   "execution_count": 74,
   "metadata": {
    "colab": {
     "base_uri": "https://localhost:8080/"
    },
    "id": "1PUYiWKQTurI",
    "outputId": "c98002b7-6ffe-4d02-db71-65fc4ffe6df2"
   },
   "outputs": [
    {
     "name": "stdout",
     "output_type": "stream",
     "text": [
      "<class 'int'>\n",
      "<class 'float'>\n",
      "<class 'str'>\n"
     ]
    }
   ],
   "source": [
    "a = 22\n",
    "print(type(a))\n",
    "a = 22.2\n",
    "print(type(a))\n",
    "a = \"22.2\"\n",
    "print(type(a))"
   ]
  },
  {
   "cell_type": "markdown",
   "metadata": {
    "id": "K_ptvOIJTp1c"
   },
   "source": [
    "# Strong typing"
   ]
  },
  {
   "cell_type": "code",
   "execution_count": 75,
   "metadata": {
    "colab": {
     "base_uri": "https://localhost:8080/",
     "height": 169
    },
    "id": "eXPeDDfeTpX8",
    "outputId": "3f4be31c-7140-4e33-cfd5-af2c77746b1e"
   },
   "outputs": [
    {
     "ename": "TypeError",
     "evalue": "can only concatenate str (not \"int\") to str",
     "output_type": "error",
     "traceback": [
      "\u001b[1;31m---------------------------------------------------------------------------\u001b[0m",
      "\u001b[1;31mTypeError\u001b[0m                                 Traceback (most recent call last)",
      "Cell \u001b[1;32mIn[75], line 1\u001b[0m\n\u001b[1;32m----> 1\u001b[0m \u001b[38;5;124m\"\u001b[39m\u001b[38;5;124mDay \u001b[39m\u001b[38;5;124m\"\u001b[39m \u001b[38;5;241m+\u001b[39m \u001b[38;5;241m1\u001b[39m\n",
      "\u001b[1;31mTypeError\u001b[0m: can only concatenate str (not \"int\") to str"
     ]
    }
   ],
   "source": [
    "\"Day \" + 1"
   ]
  },
  {
   "cell_type": "code",
   "execution_count": 76,
   "metadata": {
    "colab": {
     "base_uri": "https://localhost:8080/"
    },
    "id": "WwpsAL-aUmtV",
    "outputId": "86133e68-2534-4768-ffef-6bb3017bbdef"
   },
   "outputs": [
    {
     "data": {
      "text/plain": [
       "23.2"
      ]
     },
     "execution_count": 76,
     "metadata": {},
     "output_type": "execute_result"
    }
   ],
   "source": [
    "22.2 + 1"
   ]
  },
  {
   "cell_type": "code",
   "execution_count": 77,
   "metadata": {
    "colab": {
     "base_uri": "https://localhost:8080/",
     "height": 36
    },
    "id": "twRVQPK2TAe-",
    "outputId": "46306f9c-1e8b-4742-f6b0-f2a3be351866"
   },
   "outputs": [
    {
     "data": {
      "text/plain": [
       "'Day 1'"
      ]
     },
     "execution_count": 77,
     "metadata": {},
     "output_type": "execute_result"
    }
   ],
   "source": [
    "\n",
    "\"Day \" + \"1\""
   ]
  },
  {
   "cell_type": "code",
   "execution_count": 78,
   "metadata": {
    "colab": {
     "base_uri": "https://localhost:8080/"
    },
    "id": "mFfI3DenUTK9",
    "outputId": "ceed1991-a206-498a-fb92-9d3f9bc4e00f"
   },
   "outputs": [
    {
     "data": {
      "text/plain": [
       "44"
      ]
     },
     "execution_count": 78,
     "metadata": {},
     "output_type": "execute_result"
    }
   ],
   "source": [
    "22 + 22"
   ]
  },
  {
   "cell_type": "code",
   "execution_count": 79,
   "metadata": {
    "colab": {
     "base_uri": "https://localhost:8080/",
     "height": 36
    },
    "id": "IdkzDzGwUVqU",
    "outputId": "9e5f127a-9783-406a-f2dc-6b5bea3564a0"
   },
   "outputs": [
    {
     "data": {
      "text/plain": [
       "'2222'"
      ]
     },
     "execution_count": 79,
     "metadata": {},
     "output_type": "execute_result"
    }
   ],
   "source": [
    "\"22\" + \"22\""
   ]
  },
  {
   "cell_type": "code",
   "execution_count": 80,
   "metadata": {
    "colab": {
     "base_uri": "https://localhost:8080/",
     "height": 169
    },
    "id": "-mvi-tKRT-eM",
    "outputId": "37cd2ca9-4153-4bb4-aafc-335fce3a6aa8"
   },
   "outputs": [
    {
     "ename": "TypeError",
     "evalue": "can only concatenate str (not \"int\") to str",
     "output_type": "error",
     "traceback": [
      "\u001b[1;31m---------------------------------------------------------------------------\u001b[0m",
      "\u001b[1;31mTypeError\u001b[0m                                 Traceback (most recent call last)",
      "Cell \u001b[1;32mIn[80], line 1\u001b[0m\n\u001b[1;32m----> 1\u001b[0m \u001b[38;5;124m\"\u001b[39m\u001b[38;5;124m22\u001b[39m\u001b[38;5;124m\"\u001b[39m \u001b[38;5;241m+\u001b[39m \u001b[38;5;241m22\u001b[39m\n",
      "\u001b[1;31mTypeError\u001b[0m: can only concatenate str (not \"int\") to str"
     ]
    }
   ],
   "source": [
    "\"22\" + 22"
   ]
  },
  {
   "cell_type": "code",
   "execution_count": null,
   "metadata": {
    "colab": {
     "base_uri": "https://localhost:8080/",
     "height": 169
    },
    "id": "oH0M30m7UdeE",
    "outputId": "32a1a2c8-3814-4f5a-96fa-2b78eecfe06e"
   },
   "outputs": [],
   "source": [
    "22 + \"22\""
   ]
  },
  {
   "cell_type": "code",
   "execution_count": null,
   "metadata": {
    "colab": {
     "base_uri": "https://localhost:8080/",
     "height": 36
    },
    "id": "rTOAn0yJUf_h",
    "outputId": "594cf217-0e88-4758-8dfc-4180f1b7d14a"
   },
   "outputs": [],
   "source": [
    "'22' + \"22\""
   ]
  },
  {
   "cell_type": "code",
   "execution_count": 81,
   "metadata": {
    "colab": {
     "base_uri": "https://localhost:8080/",
     "height": 36
    },
    "id": "bhMti8hIUIO8",
    "outputId": "e9089df0-1754-46c2-a29d-d83bebce01ce"
   },
   "outputs": [
    {
     "data": {
      "text/plain": [
       "'Bishwa Jyoti'"
      ]
     },
     "execution_count": 81,
     "metadata": {},
     "output_type": "execute_result"
    }
   ],
   "source": [
    "\"Bishwa \" + \"Jyoti\""
   ]
  },
  {
   "cell_type": "code",
   "execution_count": 82,
   "metadata": {
    "id": "qxoQ1lGTUMHc"
   },
   "outputs": [],
   "source": [
    "a = 1 # int data type\n",
    "b = 1.2 # float data type\n",
    "c = \"Sunny\" # string data type\n",
    "f = 1 + 2j # complex data type # rarely used"
   ]
  },
  {
   "cell_type": "code",
   "execution_count": 83,
   "metadata": {
    "colab": {
     "base_uri": "https://localhost:8080/"
    },
    "id": "5dTyYeTXVCvU",
    "outputId": "260b49f1-f99c-4bca-a2b5-2fbffe2bda65"
   },
   "outputs": [
    {
     "name": "stdout",
     "output_type": "stream",
     "text": [
      "Hi welcome to class of python language\n"
     ]
    }
   ],
   "source": [
    "print(\"Hi welcome to class of python language\")"
   ]
  },
  {
   "cell_type": "code",
   "execution_count": 84,
   "metadata": {
    "colab": {
     "base_uri": "https://localhost:8080/"
    },
    "id": "hF_jZ8KEVQSz",
    "outputId": "7ded2faf-15f1-472d-8992-5bf44b3a5803"
   },
   "outputs": [
    {
     "name": "stdout",
     "output_type": "stream",
     "text": [
      "Hi welcome to class of Java language\n"
     ]
    }
   ],
   "source": [
    "print(\"Hi welcome to class of Java language\")"
   ]
  },
  {
   "cell_type": "code",
   "execution_count": 89,
   "metadata": {
    "colab": {
     "base_uri": "https://localhost:8080/"
    },
    "id": "MEZ6i8gdVSzD",
    "outputId": "efc076c0-068c-4865-d124-57cd45730440"
   },
   "outputs": [
    {
     "name": "stdout",
     "output_type": "stream",
     "text": [
      "Hi welcome to class of  8.0 language\n"
     ]
    }
   ],
   "source": [
    "language = 8.0\n",
    "print(f\"Hi welcome to class of  {language} language\") # allowed but rarely used"
   ]
  },
  {
   "cell_type": "code",
   "execution_count": 90,
   "metadata": {
    "colab": {
     "base_uri": "https://localhost:8080/"
    },
    "id": "Q73i4MSsVhgL",
    "outputId": "6b3e91ae-e5cc-40dd-cba7-a575f3894616"
   },
   "outputs": [
    {
     "name": "stdout",
     "output_type": "stream",
     "text": [
      "Hi welcome to class of JavaScript language\n"
     ]
    }
   ],
   "source": [
    "# f -> formatted string method\n",
    "language = \"JavaScript\"\n",
    "print(f\"Hi welcome to class of {language} language\") # current standard approach used in python"
   ]
  },
  {
   "cell_type": "code",
   "execution_count": 91,
   "metadata": {
    "colab": {
     "base_uri": "https://localhost:8080/"
    },
    "id": "Li1ZBZ9dWLzE",
    "outputId": "29dcd6f6-7833-4027-eb3a-256c29d08800"
   },
   "outputs": [
    {
     "name": "stdout",
     "output_type": "stream",
     "text": [
      "Hi welcome to class of JavaScript language\n"
     ]
    }
   ],
   "source": [
    "language = \"JavaScript\"\n",
    "print(\"Hi welcome to class of {} language\".format(language)) # old way"
   ]
  },
  {
   "cell_type": "code",
   "execution_count": 92,
   "metadata": {
    "colab": {
     "base_uri": "https://localhost:8080/"
    },
    "id": "rBEopjrfV32L",
    "outputId": "ce2ffbf8-b677-4ec9-cd6d-12bfbf5a3089"
   },
   "outputs": [
    {
     "name": "stdout",
     "output_type": "stream",
     "text": [
      "Hi welcome to class of {language} language\n"
     ]
    }
   ],
   "source": [
    "language = \"JavaScript\"\n",
    "print(\"Hi welcome to class of {language} language\")"
   ]
  },
  {
   "cell_type": "code",
   "execution_count": 93,
   "metadata": {
    "colab": {
     "base_uri": "https://localhost:8080/"
    },
    "id": "y_sY5PvvV-7L",
    "outputId": "03a56883-d4c8-4a3b-d573-88ccf4276b90"
   },
   "outputs": [
    {
     "name": "stdout",
     "output_type": "stream",
     "text": [
      "Today is the first class of Python language\n"
     ]
    }
   ],
   "source": [
    "# f -> formatted string method\n",
    "num = \"first\"\n",
    "language = \"Python\"\n",
    "print(f\"Today is the {num} class of {language} language\") # current standard approach used in python"
   ]
  },
  {
   "cell_type": "code",
   "execution_count": 94,
   "metadata": {
    "colab": {
     "base_uri": "https://localhost:8080/"
    },
    "id": "Sz6BCn-uWuD6",
    "outputId": "8fb96a76-cee4-40ab-e998-0a3d5e3f2a31"
   },
   "outputs": [
    {
     "name": "stdout",
     "output_type": "stream",
     "text": [
      "Today is the first class of Python language\n"
     ]
    }
   ],
   "source": [
    "\n",
    "num = \"first\"\n",
    "language = \"Python\"\n",
    "print(\"Today is the {} class of {} language\".format(num, language))"
   ]
  },
  {
   "cell_type": "code",
   "execution_count": 95,
   "metadata": {
    "colab": {
     "base_uri": "https://localhost:8080/"
    },
    "id": "13HRaLE_W6rA",
    "outputId": "32cbb6e8-f723-42c7-80f8-6089228b74a6"
   },
   "outputs": [
    {
     "name": "stdout",
     "output_type": "stream",
     "text": [
      "Today is the first class of Python language\n"
     ]
    }
   ],
   "source": [
    "num = \"first\"\n",
    "language = \"Python\"\n",
    "print(\"Today is the \"+num+\" class of \"+language+\" language\")"
   ]
  },
  {
   "cell_type": "code",
   "execution_count": 96,
   "metadata": {
    "colab": {
     "base_uri": "https://localhost:8080/"
    },
    "id": "YmZY34KIW2Pq",
    "outputId": "0d33af3c-8869-4d81-d581-6106b127d288"
   },
   "outputs": [
    {
     "name": "stdout",
     "output_type": "stream",
     "text": [
      "the result sum of two nums a: 22 and b: 34 is =56\n"
     ]
    }
   ],
   "source": [
    "a = 22\n",
    "b = 34\n",
    "c = a + b\n",
    "print(f\"the result sum of two nums a: {a} and b: {b} is ={c}\")"
   ]
  },
  {
   "cell_type": "markdown",
   "metadata": {
    "id": "FnRT1fGtXlsS"
   },
   "source": [
    "# Boolean\n",
    "True False"
   ]
  },
  {
   "cell_type": "code",
   "execution_count": 97,
   "metadata": {
    "colab": {
     "base_uri": "https://localhost:8080/"
    },
    "id": "dTVcRds3Xdp5",
    "outputId": "5cd31861-0fa2-4197-b1f2-0705d8d4331b"
   },
   "outputs": [
    {
     "name": "stdout",
     "output_type": "stream",
     "text": [
      "<class 'bool'>\n",
      "<class 'bool'>\n"
     ]
    }
   ],
   "source": [
    "one = True\n",
    "two = False\n",
    "\n",
    "print(type(one))\n",
    "print(type(two))"
   ]
  },
  {
   "cell_type": "code",
   "execution_count": 98,
   "metadata": {
    "colab": {
     "base_uri": "https://localhost:8080/"
    },
    "id": "devpbk_FXvz6",
    "outputId": "c42fcd09-eb92-4707-91a5-4a45256c59a6"
   },
   "outputs": [
    {
     "name": "stdout",
     "output_type": "stream",
     "text": [
      "You understood everything?: True\n"
     ]
    }
   ],
   "source": [
    "class_starts_at = 3\n",
    "you_came_at = 2\n",
    "you_understood_all_concepts = you_came_at < class_starts_at\n",
    "\n",
    "print(f\"You understood everything?: {you_understood_all_concepts}\")"
   ]
  },
  {
   "cell_type": "code",
   "execution_count": 99,
   "metadata": {
    "colab": {
     "base_uri": "https://localhost:8080/"
    },
    "id": "Gaf2N9xEYcYJ",
    "outputId": "88e9094a-14f5-446b-cb91-468f3c09fdf3"
   },
   "outputs": [
    {
     "name": "stdout",
     "output_type": "stream",
     "text": [
      "You understood everything?: False\n"
     ]
    }
   ],
   "source": [
    "class_starts_at = 3 # class start at 3 PM\n",
    "you_came_at = 4 # you came to class at 4 PM\n",
    "you_understood_all_concepts = you_came_at < class_starts_at\n",
    "\n",
    "print(f\"You understood everything?: {you_understood_all_concepts}\")"
   ]
  },
  {
   "cell_type": "code",
   "execution_count": 100,
   "metadata": {
    "colab": {
     "base_uri": "https://localhost:8080/"
    },
    "id": "k7-N9aSGYxko",
    "outputId": "1fc1abd6-2b22-4077-effd-7f98d20d22f7"
   },
   "outputs": [
    {
     "data": {
      "text/plain": [
       "True"
      ]
     },
     "execution_count": 100,
     "metadata": {},
     "output_type": "execute_result"
    }
   ],
   "source": [
    "# = means assignment\n",
    "# == means comparing equality\n",
    "is_raining = False\n",
    "umbralla_available = False\n",
    "go_to_college = is_raining == umbralla_available # Cop\n",
    "go_to_college"
   ]
  },
  {
   "cell_type": "code",
   "execution_count": null,
   "metadata": {
    "colab": {
     "base_uri": "https://localhost:8080/"
    },
    "id": "-ujuH__ku8MB",
    "outputId": "e193ec8b-ceb5-4689-c847-64b4996b9bcd"
   },
   "outputs": [],
   "source": [
    "numA = 5\n",
    "numB = 6\n",
    "numA == numB"
   ]
  },
  {
   "cell_type": "code",
   "execution_count": null,
   "metadata": {
    "colab": {
     "base_uri": "https://localhost:8080/"
    },
    "id": "jK-nLzs4vCxi",
    "outputId": "fccb0ba9-aacf-4be3-e157-107dd187ed46"
   },
   "outputs": [],
   "source": [
    "numA = 5\n",
    "numB = 5\n",
    "numA == numB"
   ]
  },
  {
   "cell_type": "code",
   "execution_count": null,
   "metadata": {
    "colab": {
     "base_uri": "https://localhost:8080/"
    },
    "id": "QFAiOmWRvKt9",
    "outputId": "f6a4af18-fc4c-45e8-8269-abe7ffb21fcc"
   },
   "outputs": [],
   "source": [
    "numA = 5\n",
    "numB = 5\n",
    "numA > numB"
   ]
  },
  {
   "cell_type": "code",
   "execution_count": 101,
   "metadata": {
    "colab": {
     "base_uri": "https://localhost:8080/"
    },
    "id": "z-8IacptvNeg",
    "outputId": "2632f2df-b462-4727-9355-733e83aed135"
   },
   "outputs": [
    {
     "data": {
      "text/plain": [
       "True"
      ]
     },
     "execution_count": 101,
     "metadata": {},
     "output_type": "execute_result"
    }
   ],
   "source": [
    "numA = 5\n",
    "numB = 5\n",
    "numA >= numB"
   ]
  },
  {
   "cell_type": "code",
   "execution_count": 102,
   "metadata": {
    "colab": {
     "base_uri": "https://localhost:8080/",
     "height": 36
    },
    "id": "skESaUujaGJf",
    "outputId": "966ee414-e01f-48e6-cd7d-a4c1a9b56014"
   },
   "outputs": [
    {
     "data": {
      "text/plain": [
       "'Bishwa Jyoti Chaudhary'"
      ]
     },
     "execution_count": 102,
     "metadata": {},
     "output_type": "execute_result"
    }
   ],
   "source": [
    "\"Bishwa\" + \" Jyoti \" + \"Chaudhary\""
   ]
  },
  {
   "cell_type": "code",
   "execution_count": 103,
   "metadata": {
    "colab": {
     "base_uri": "https://localhost:8080/",
     "height": 36
    },
    "id": "SeUBa0XYeSlE",
    "outputId": "27f4f7d2-60f2-4a30-dd6f-3132d5cd76b8"
   },
   "outputs": [
    {
     "data": {
      "text/plain": [
       "'My name is \"Bishwa\" Jyoti'"
      ]
     },
     "execution_count": 103,
     "metadata": {},
     "output_type": "execute_result"
    }
   ],
   "source": [
    "\"My name is \\\"Bishwa\\\" Jyoti\""
   ]
  },
  {
   "cell_type": "code",
   "execution_count": 104,
   "metadata": {
    "colab": {
     "base_uri": "https://localhost:8080/"
    },
    "id": "w0serPE4ek3F",
    "outputId": "3c511e39-76f4-43a6-9f54-8e1bf6db690f"
   },
   "outputs": [
    {
     "name": "stdout",
     "output_type": "stream",
     "text": [
      "\"\n"
     ]
    }
   ],
   "source": [
    "print(\"\\\"\")"
   ]
  },
  {
   "cell_type": "code",
   "execution_count": 105,
   "metadata": {
    "colab": {
     "base_uri": "https://localhost:8080/"
    },
    "id": "ea25JN7ehn2Q",
    "outputId": "febb06d2-9bb1-4a39-a73c-c30646760dfd"
   },
   "outputs": [
    {
     "name": "stdout",
     "output_type": "stream",
     "text": [
      " \" \n"
     ]
    }
   ],
   "source": [
    "print(\"\"\" \" \"\"\")"
   ]
  },
  {
   "cell_type": "code",
   "execution_count": 106,
   "metadata": {
    "colab": {
     "base_uri": "https://localhost:8080/"
    },
    "id": "QTEKsLv8hsVY",
    "outputId": "3d910571-c37c-41d6-bd11-2bbc5edcac50"
   },
   "outputs": [
    {
     "name": "stdout",
     "output_type": "stream",
     "text": [
      " / \n"
     ]
    }
   ],
   "source": [
    "print(\"\"\" / \"\"\")"
   ]
  },
  {
   "cell_type": "code",
   "execution_count": 107,
   "metadata": {
    "colab": {
     "base_uri": "https://localhost:8080/"
    },
    "id": "KSaAbMVMhxYq",
    "outputId": "aff2fb65-6e63-4633-e52e-66976aac0ce4"
   },
   "outputs": [
    {
     "name": "stdout",
     "output_type": "stream",
     "text": [
      "My name is: Pallavi\n"
     ]
    }
   ],
   "source": [
    "name = \"Pallavi\"\n",
    "print(f\"My name is: {name}\")"
   ]
  },
  {
   "cell_type": "code",
   "execution_count": 108,
   "metadata": {
    "colab": {
     "base_uri": "https://localhost:8080/"
    },
    "id": "TGVPhpcFiOuy",
    "outputId": "981c9d65-190e-4960-924b-fcb75fe15794"
   },
   "outputs": [
    {
     "name": "stdout",
     "output_type": "stream",
     "text": [
      "My name is: 1000\n"
     ]
    }
   ],
   "source": [
    "name = 1000\n",
    "print(f\"My name is: {name}\")"
   ]
  },
  {
   "cell_type": "code",
   "execution_count": 109,
   "metadata": {
    "colab": {
     "base_uri": "https://localhost:8080/"
    },
    "id": "DDpqpRtRiX1A",
    "outputId": "11a34753-7feb-4ad1-f514-a0034ad9cb1b"
   },
   "outputs": [
    {
     "name": "stdout",
     "output_type": "stream",
     "text": [
      "sum = 9\n"
     ]
    }
   ],
   "source": [
    "a=2\n",
    "b = 3\n",
    "c = 4\n",
    "__result__ = a+b+c\n",
    "print(f\"sum = {__result__}\")"
   ]
  },
  {
   "cell_type": "code",
   "execution_count": 110,
   "metadata": {
    "id": "YTMjo0fZstXo"
   },
   "outputs": [],
   "source": [
    "z = 2+5j"
   ]
  },
  {
   "cell_type": "code",
   "execution_count": 111,
   "metadata": {
    "colab": {
     "base_uri": "https://localhost:8080/"
    },
    "id": "HlNk8e1z69vj",
    "outputId": "3501e93f-e84d-46e4-f613-aee5c52aee1f"
   },
   "outputs": [
    {
     "data": {
      "text/plain": [
       "2.0"
      ]
     },
     "execution_count": 111,
     "metadata": {},
     "output_type": "execute_result"
    }
   ],
   "source": [
    "z.real"
   ]
  },
  {
   "cell_type": "code",
   "execution_count": null,
   "metadata": {
    "colab": {
     "base_uri": "https://localhost:8080/"
    },
    "id": "-WihRQCP7K76",
    "outputId": "cd64f789-a2b0-4356-e33a-1d05e2c8335b"
   },
   "outputs": [],
   "source": [
    "z.imag"
   ]
  },
  {
   "cell_type": "markdown",
   "metadata": {
    "id": "dlKW1h7ZB-ib"
   },
   "source": [
    "#1. Assignment\n"
   ]
  },
  {
   "cell_type": "code",
   "execution_count": 112,
   "metadata": {
    "colab": {
     "base_uri": "https://localhost:8080/"
    },
    "id": "iK3pSDdK7NF1",
    "outputId": "076fa768-d775-4540-f71d-745a65accf45"
   },
   "outputs": [
    {
     "name": "stdout",
     "output_type": "stream",
     "text": [
      "Congratulations! You won a penguin!\n"
     ]
    }
   ],
   "source": [
    "# Practice: Conditional Statement\n",
    "\n",
    "points = 0  # use this input to make your submission\n",
    "\n",
    "if 40 <= points <= 50:\n",
    "    result = \"Congratulations! You won a wooden rabbit!\"\n",
    "\n",
    "elif 51 <= points <= 150:\n",
    "    result = \"Oh dear, no prize this time.\"\n",
    "\n",
    "elif 151 <= points <= 180:\n",
    "    result = \"Congratulations! You won a wafer-thin mint!\"\n",
    "\n",
    "else:\n",
    "    result = \"Congratulations! You won a penguin!\"\n",
    "\n",
    "print(result)\n"
   ]
  },
  {
   "cell_type": "code",
   "execution_count": null,
   "metadata": {
    "colab": {
     "base_uri": "https://localhost:8080/"
    },
    "id": "ktQ1tF6KCRCn",
    "outputId": "c9d1690a-8db1-4dc0-f0a2-a9b88feb674b"
   },
   "outputs": [],
   "source": [
    "\n",
    "# Quiz: Guess My Number\n",
    "\n",
    "answer = 10  # provide answer\n",
    "guess = 5  # provide guess\n",
    "\n",
    "if guess < answer:\n",
    "    result = \"Oops!  Your guess was too low.\"\n",
    "elif guess > answer:\n",
    "    result = \"Oops!  Your guess was too high.\"\n",
    "elif guess == answer:\n",
    "    result = \"Nice!  Your guess matched the answer!\"\n",
    "\n",
    "print(result)\n"
   ]
  },
  {
   "cell_type": "code",
   "execution_count": null,
   "metadata": {
    "colab": {
     "base_uri": "https://localhost:8080/"
    },
    "id": "zPiAUhK0CWxf",
    "outputId": "5859e74b-b276-4d53-de25-94ea45e25008"
   },
   "outputs": [],
   "source": [
    "# Quiz: Tax Purchase\n",
    "\n",
    "\n",
    "state = 'CA'  # Either CA, MN, or NY\n",
    "purchase_amount = 5  # amount of purchase\n",
    "\n",
    "if state == 'CA':\n",
    "    tax_amount = 1\n",
    "    total_cost = purchase_amount*(1+tax_amount*0.01)\n",
    "    result = \"Since you're from {}, your total cost is {}.\".format(state, total_cost)\n",
    "\n",
    "elif state == 'MN':\n",
    "    tax_amount = 2\n",
    "    total_cost = purchase_amount*(1+tax_amount*0.01)\n",
    "    result = \"Since you're from {}, your total cost is {}.\".format(state, total_cost)\n",
    "\n",
    "elif state == 'NY':\n",
    "    tax_amount = 3\n",
    "    total_cost = purchase_amount*(1+tax_amount*0.01)\n",
    "    result = \"Since you're from {}, your total cost is {}.\".format(state, total_cost)\n",
    "\n",
    "print(result)\n"
   ]
  },
  {
   "cell_type": "code",
   "execution_count": null,
   "metadata": {
    "colab": {
     "base_uri": "https://localhost:8080/"
    },
    "id": "A5mb8RdnDSR7",
    "outputId": "16f7516e-29d3-4b0f-e8f3-313dad836d82"
   },
   "outputs": [],
   "source": [
    "# Quiz: Boolean Expressions for Conditions\n",
    "\n",
    "\n",
    "points = 174\n",
    "\n",
    "# establish the default prize value to None\n",
    "prize = None\n",
    "\n",
    "# use the points value to assign prizes to the correct prize names\n",
    "if points <= 50:\n",
    "    prize = \"wooden rabbit\"\n",
    "elif 151 <= points <= 180:\n",
    "    prize = \"wafer-thin mint\"\n",
    "elif 181 <= points <= 200:\n",
    "    prize = \"penguin\"\n",
    "\n",
    "# use the truth value of prize to assign result to the correct prize\n",
    "if prize:\n",
    "    result = \"Congratulations! You won a {}!\".format(prize)\n",
    "else:\n",
    "    result = \"Oh dear, no prize this time.\"\n",
    "\n",
    "print(result)"
   ]
  }
 ],
 "metadata": {
  "colab": {
   "provenance": []
  },
  "kernelspec": {
   "display_name": "Python 3 (ipykernel)",
   "language": "python",
   "name": "python3"
  },
  "language_info": {
   "codemirror_mode": {
    "name": "ipython",
    "version": 3
   },
   "file_extension": ".py",
   "mimetype": "text/x-python",
   "name": "python",
   "nbconvert_exporter": "python",
   "pygments_lexer": "ipython3",
   "version": "3.11.7"
  }
 },
 "nbformat": 4,
 "nbformat_minor": 4
}
